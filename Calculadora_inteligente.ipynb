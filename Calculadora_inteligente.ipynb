{
  "cells": [
    {
      "cell_type": "markdown",
      "source": [
        "# Primeiro Projeto -  ***Calculadora Inteligente***"
      ],
      "metadata": {
        "id": "fX94bSl8MzhV"
      }
    },
    {
      "cell_type": "code",
      "source": [
        "# Inicio do Programa e apresentação\n",
        "\n",
        "print(\"Bem vindo a calculadora inteligente\")\n",
        "print(\"Você gostaria de fazer qual tipo de calculo? \")\n",
        "dado1 = input()\n",
        "dado1 = dado1.strip().lower()\n",
        "\n",
        "# Identificar qual será cálculo\n",
        "\n",
        "if dado1 == \"soma\":\n",
        "  print(\"você escolheu Soma!\")\n",
        "\n",
        "elif dado1 == \"subtração\":\n",
        "  print(\"você escolheu Subtração!\")\n",
        "\n",
        "elif dado1 == \"multiplicação\":\n",
        "  print(\"Você escolheu Multiplicação!\")\n",
        "\n",
        "elif dado1 == \"divisão\":\n",
        "  print(\"Você escolheu Divisão!\")\n",
        "\n",
        "elif dado1 == \"potenciação\":\n",
        "  print(\"Você escolheu Potenciação!\")\n",
        "\n",
        "elif dado1 == \"raiz quadrada\":\n",
        "  print(\"Você escolheu raiz Quadrada!\")\n",
        "\n",
        "elif dado1 != \"soma\" != \"subtração\" != \"multiplicação\" != \"divisão\" != \"potenciação\" != \"raiz Quadrada\":\n",
        "   print(\"Você Não escolheu nenhuma opção.\")\n",
        "\n",
        "\n",
        "# Cálculo\n",
        "\n",
        "if dado1 == \"soma\":\n",
        "  print(\"Digite um numero\")\n",
        "  numero1 = int(input()) #converte para inteiro\n",
        "  print(\"Digite outro numero\")\n",
        "  numero2 = int(input()) #Converte para inteiro\n",
        "\n",
        "  soma = numero1 + numero2\n",
        "  print(\"A Soma dos dois numeros é: \", soma,\".\")\n",
        "\n",
        "elif dado1 == \"subtração\":\n",
        "  print(\"Digite um numero\")\n",
        "  numero1 = int(input()) #converte para inteiro\n",
        "  print(\"Digite outro numero\")\n",
        "  numero2 = int(input()) #converte para inteiro\n",
        "\n",
        "  subtração = numero1 - numero2\n",
        "  print(\"A Subtração dos dois numeros é: \", subtração,\".\")\n",
        "\n",
        "elif dado1 == \"multiplicação\":\n",
        "  print(\"Digite um numero\")\n",
        "  numero1 = int(input()) #converte para inteiro\n",
        "  print(\"Digite outro numero\")\n",
        "  numero2 = int(input()) #Converte para inteiro\n",
        "\n",
        "  multiplicação = numero1 * numero2\n",
        "  print(\"A multiplicação dos dois numeros é: \", multiplicação,\".\")\n",
        "\n",
        "elif dado1 == \"divisão\":\n",
        "  print(\"Digite um numero\")\n",
        "  numero1 = int(input()) #converte para inteiro\n",
        "  print(\"Digite outro numero\")\n",
        "  numero2 = int(input()) #Converte para inteiro\n",
        "\n",
        "  divisão = numero1 / numero2\n",
        "  print(\"A divisão dos dois numeros é: \", divisão,\".\")\n",
        "\n",
        "elif dado1 == \"potenciação\":\n",
        "  print(\"Digite um numero\")\n",
        "  numero1 = int(input()) #converte para inteiro\n",
        "  print(\"Digite outro numero\")\n",
        "  numero2 = int(input()) #Converte para inteiro\n",
        "\n",
        "  potenciação = numero1 ** numero2\n",
        "  print(\"A potenciação dos dois numeros é: \", potenciação,\".\")\n",
        "\n",
        "\n",
        "elif dado1 == \"raiz quadrada\":\n",
        "  numero = int(input(\"Digite um número para calcular a raiz quadrada: \"))\n",
        "  raiz_quadrada = numero ** (1/2)\n",
        "  print(\"a raiz quadrada é: \", raiz_quadrada,\".\")\n",
        "\n",
        "\n",
        "  # Fim.\n",
        "\n",
        "\n",
        "\n",
        "\n"
      ],
      "metadata": {
        "colab": {
          "base_uri": "https://localhost:8080/"
        },
        "id": "GX7_yokLM49l",
        "outputId": "f1fec405-329d-4db5-8d15-a7a769dc14de"
      },
      "execution_count": 9,
      "outputs": [
        {
          "output_type": "stream",
          "name": "stdout",
          "text": [
            "Bem vindo a calculadora inteligente\n",
            "Você gostaria de fazer qual tipo de calculo? \n",
            "soma\n",
            "você escolheu Soma!\n",
            "Digite um numero\n",
            "10\n",
            "Digite outro numero\n",
            "27\n",
            "A Soma dos dois numeros é:  37 .\n"
          ]
        }
      ]
    }
  ],
  "metadata": {
    "colab": {
      "provenance": []
    },
    "kernelspec": {
      "display_name": "Python 3",
      "name": "python3"
    }
  },
  "nbformat": 4,
  "nbformat_minor": 0
}